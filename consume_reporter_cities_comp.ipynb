{
 "cells": [
  {
   "cell_type": "markdown",
   "metadata": {},
   "source": [
    "# tweet_informer_provincia_ciudad"
   ]
  },
  {
   "cell_type": "code",
   "execution_count": null,
   "metadata": {},
   "outputs": [],
   "source": [
    "from tweet_informer_lib import os, wget,shutil,pd,glob,sys,zipCompressDir,datetime\n",
    "from tweet_informer_lib import make_cammesa_url,make_plt_provincia_capital_bars,cammesa_consume_reader\n",
    "from tweet_informer_lib import json,tweepy,reduce"
   ]
  },
  {
   "cell_type": "code",
   "execution_count": null,
   "metadata": {},
   "outputs": [],
   "source": [
    "pd_cfg=pd.read_csv('cfg/csv_cfg_provincias.csv',index_col=0)\n",
    "prov_dict=pd_cfg.T.to_dict()"
   ]
  },
  {
   "cell_type": "markdown",
   "metadata": {},
   "source": [
    "### url"
   ]
  },
  {
   "cell_type": "code",
   "execution_count": null,
   "metadata": {},
   "outputs": [],
   "source": [
    "url_dict={}\n",
    "for opt in prov_dict:\n",
    "    url_dict.update({opt:{}})\n",
    "    provincia,capital=prov_dict[opt]['Total'],prov_dict[opt]['Capital']\n",
    "    make_cammesa_url('provincia',provincia,url_dict[opt])\n",
    "    make_cammesa_url('capital',capital,url_dict[opt])"
   ]
  },
  {
   "cell_type": "markdown",
   "metadata": {},
   "source": [
    "### make dirs"
   ]
  },
  {
   "cell_type": "code",
   "execution_count": null,
   "metadata": {},
   "outputs": [],
   "source": [
    "tmp='tmp_multi'\n",
    "arxive='arxive'\n",
    "for folder in [arxive,tmp]:\n",
    "    os.makedirs(folder,exist_ok=True)"
   ]
  },
  {
   "cell_type": "markdown",
   "metadata": {},
   "source": [
    "### get data"
   ]
  },
  {
   "cell_type": "code",
   "execution_count": null,
   "metadata": {},
   "outputs": [],
   "source": [
    "csv_dict={}\n",
    "req_time=datetime.datetime.now().strftime('%Y%m%d%H%M%S')\n",
    "for p in url_dict:\n",
    "    csv_dict.update({p:{}})\n",
    "    for key in url_dict[p]:\n",
    "        filename=os.path.join(tmp,p+'_'+key+'.csv')\n",
    "        filesaved = wget.download(url_dict[p][key],out=filename)\n",
    "        csv_dict[p].update({key:filesaved})"
   ]
  },
  {
   "cell_type": "code",
   "execution_count": null,
   "metadata": {},
   "outputs": [],
   "source": [
    "csv_=glob.glob(os.path.join(tmp,'*.csv'))\n",
    "if len(csv_)>0:\n",
    "    pass\n",
    "else:\n",
    "    shutil.rmtree(tmp)\n",
    "    sys.exit('No CSV files')"
   ]
  },
  {
   "cell_type": "markdown",
   "metadata": {},
   "source": [
    "### data proc"
   ]
  },
  {
   "cell_type": "code",
   "execution_count": null,
   "metadata": {},
   "outputs": [],
   "source": [
    "aux=[]\n",
    "for p in csv_dict:\n",
    "    for c in csv_dict[p]:\n",
    "        df=cammesa_consume_reader(csv_dict[p][c],[1,2])\n",
    "        df.columns=[p+'_'+c]\n",
    "        aux.append(df)\n",
    "df=reduce(lambda x, y: pd.merge(x, y, left_index=True,right_index=True), aux)\n",
    "df[df < 0] = 0\n",
    "df_notna=df.dropna()"
   ]
  },
  {
   "cell_type": "code",
   "execution_count": null,
   "metadata": {},
   "outputs": [],
   "source": [
    "if len(df_notna)>1:\n",
    "    pass\n",
    "else:\n",
    "    shutil.rmtree(tmp)\n",
    "    sys.exit('Short Dataframe')"
   ]
  },
  {
   "cell_type": "code",
   "execution_count": null,
   "metadata": {},
   "outputs": [],
   "source": [
    "dend=df_notna.index[-1].strftime('%d-%m-%Y %H:%M')\n",
    "pd_in=pd.DataFrame(df_notna.iloc[-1].values.reshape(-1,2),index=csv_dict.keys(),columns=['Provincia','Capital'])\n",
    "pd_in['Provincia_SIN_Capital']=pd_in['Provincia']-pd_in['Capital']"
   ]
  },
  {
   "cell_type": "code",
   "execution_count": null,
   "metadata": {},
   "outputs": [],
   "source": [
    "try:\n",
    "    fig=make_plt_provincia_capital_bars(pd_in,title='Demanda Real [MW] ' + dend)\n",
    "    # save fig\n",
    "    figName=os.path.join(tmp,'consumo.png')\n",
    "    fig.savefig(figName,transparent=False)\n",
    "except:\n",
    "    shutil.rmtree(tmp)\n",
    "    print('Plot ERROR')\n",
    "    sys.exit('Plot ERROR')   "
   ]
  },
  {
   "cell_type": "markdown",
   "metadata": {},
   "source": [
    "### tweeter Stuff"
   ]
  },
  {
   "cell_type": "code",
   "execution_count": null,
   "metadata": {},
   "outputs": [],
   "source": [
    "#\n",
    "config_file = 'cfg/.tweepy.json'\n",
    "try:\n",
    "    with open(config_file) as fh:\n",
    "        config = json.load(fh)\n",
    "        auth = tweepy.OAuthHandler(config['consumer_key'], config['consumer_secret'])\n",
    "        auth.set_access_token(config['access_token'], config['access_token_secret'])\n",
    "        twitter = tweepy.API(auth)\n",
    "        tweet ='Consumo [MW] - Provincias'\n",
    "        image_path =figName\n",
    "        # to attach the media file \n",
    "        status = twitter.update_with_media(image_path, tweet)\n",
    "except:\n",
    "    shutil.rmtree(tmp)\n",
    "    sys.exit('Failed to TWEET')"
   ]
  },
  {
   "cell_type": "markdown",
   "metadata": {},
   "source": [
    "### Compress - Save - Delete"
   ]
  },
  {
   "cell_type": "code",
   "execution_count": null,
   "metadata": {},
   "outputs": [],
   "source": [
    "zipname=os.path.join(arxive,req_time+'_consumo_Provincias.zip')\n",
    "zipCompressDir(zipname,tmp)"
   ]
  },
  {
   "cell_type": "code",
   "execution_count": null,
   "metadata": {},
   "outputs": [],
   "source": [
    "shutil.rmtree(tmp)"
   ]
  }
 ],
 "metadata": {
  "kernelspec": {
   "display_name": "Python 3",
   "language": "python",
   "name": "python3"
  },
  "language_info": {
   "codemirror_mode": {
    "name": "ipython",
    "version": 3
   },
   "file_extension": ".py",
   "mimetype": "text/x-python",
   "name": "python",
   "nbconvert_exporter": "python",
   "pygments_lexer": "ipython3",
   "version": "3.7.3"
  }
 },
 "nbformat": 4,
 "nbformat_minor": 4
}
