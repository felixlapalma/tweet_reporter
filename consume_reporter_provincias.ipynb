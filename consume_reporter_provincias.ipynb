{
 "cells": [
  {
   "cell_type": "markdown",
   "metadata": {},
   "source": [
    "# tweet_informer_provincia_ciudad"
   ]
  },
  {
   "cell_type": "code",
   "execution_count": null,
   "metadata": {},
   "outputs": [],
   "source": [
    "from tweet_informer_lib import os, wget,shutil,pd,glob,sys,zipCompressDir,datetime\n",
    "from tweet_informer_lib import make_cammesa_url,make_plt_provincia_capital\n",
    "from tweet_informer_lib import json,tweepy"
   ]
  },
  {
   "cell_type": "code",
   "execution_count": null,
   "metadata": {},
   "outputs": [],
   "source": [
    "#\n",
    "opt=sys.argv[1:2][0]\n",
    "print(opt)"
   ]
  },
  {
   "cell_type": "code",
   "execution_count": null,
   "metadata": {},
   "outputs": [],
   "source": [
    "# get Opt\n",
    "opt='Tucuman'\n",
    "print(opt)"
   ]
  },
  {
   "cell_type": "code",
   "execution_count": null,
   "metadata": {},
   "outputs": [],
   "source": [
    "pd_cfg=pd.read_csv('cfg/csv_cfg_provincias.csv',index_col=0)\n",
    "prov_dict=pd_cfg.T.to_dict()"
   ]
  },
  {
   "cell_type": "markdown",
   "metadata": {},
   "source": [
    "### url"
   ]
  },
  {
   "cell_type": "code",
   "execution_count": null,
   "metadata": {},
   "outputs": [],
   "source": [
    "url_dict={}\n",
    "if opt in prov_dict:\n",
    "    provincia,capital=prov_dict[opt]['Total'],prov_dict[opt]['Capital']\n",
    "    make_cammesa_url('provincia',provincia,url_dict)\n",
    "    make_cammesa_url('capital',capital,url_dict)\n",
    "else:\n",
    "    'Opciones validas: {}'.format(list(prov_dict.keys()))\n",
    "    sys.exit()"
   ]
  },
  {
   "cell_type": "markdown",
   "metadata": {},
   "source": [
    "### make dirs"
   ]
  },
  {
   "cell_type": "code",
   "execution_count": null,
   "metadata": {},
   "outputs": [],
   "source": [
    "tmp='tmp'+opt\n",
    "arxive='arxive'\n",
    "for folder in [arxive,tmp]:\n",
    "    os.makedirs(folder,exist_ok=True)"
   ]
  },
  {
   "cell_type": "markdown",
   "metadata": {},
   "source": [
    "### get data"
   ]
  },
  {
   "cell_type": "code",
   "execution_count": null,
   "metadata": {},
   "outputs": [],
   "source": [
    "csv_dict={}\n",
    "req_time=datetime.datetime.now().strftime('%Y%m%d%H%M%S')\n",
    "for key in url_dict:\n",
    "    filename=os.path.join(tmp,key+'.csv')\n",
    "    filesaved = wget.download(url_dict[key],out=filename)\n",
    "    csv_dict.update({key:filesaved})"
   ]
  },
  {
   "cell_type": "code",
   "execution_count": null,
   "metadata": {},
   "outputs": [],
   "source": [
    "csv_=glob.glob(os.path.join(tmp,'*.csv'))\n",
    "if len(csv_)==2:\n",
    "    pass\n",
    "else:\n",
    "    shutil.rmtree(tmp)\n",
    "    sys.exit('No CSV files')"
   ]
  },
  {
   "cell_type": "code",
   "execution_count": null,
   "metadata": {},
   "outputs": [],
   "source": [
    "csv_dict={}\n",
    "csv_dict.update({'provincia':csv_[0],'capital':csv_[1]})\n",
    "csv_dict"
   ]
  },
  {
   "cell_type": "markdown",
   "metadata": {},
   "source": [
    "### data proc"
   ]
  },
  {
   "cell_type": "code",
   "execution_count": null,
   "metadata": {},
   "outputs": [],
   "source": [
    "pd_ciudad=pd.read_csv(csv_dict['capital'],sep=';',decimal=',',index_col=[0],parse_dates=[0])\n",
    "pd_provincia=pd.read_csv(csv_dict['provincia'],sep=';',decimal=',',index_col=[0],parse_dates=[0])"
   ]
  },
  {
   "cell_type": "code",
   "execution_count": null,
   "metadata": {},
   "outputs": [],
   "source": [
    "pd_merge=pd.merge(pd_provincia,pd_ciudad,left_index=True,right_index=True,suffixes=('_prov','_capital'))\n",
    "pd_merge[pd_merge < 0] = 0\n",
    "pd_merge['provincia_sin_capital']=pd_merge['Dem Hoy_prov']-pd_merge['Dem Hoy_capital']\n",
    "#\n",
    "pd_merge_not_na=pd_merge.dropna()"
   ]
  },
  {
   "cell_type": "code",
   "execution_count": null,
   "metadata": {},
   "outputs": [],
   "source": [
    "if len(pd_merge_not_na)>10:\n",
    "    pass\n",
    "else:\n",
    "    shutil.rmtree(tmp)\n",
    "    sys.exit('Short Dataframe')"
   ]
  },
  {
   "cell_type": "code",
   "execution_count": null,
   "metadata": {},
   "outputs": [],
   "source": [
    "try:\n",
    "    fig,tweet_text=make_plt_provincia_capital(pd_merge_not_na,opt,figsize=(16,12))\n",
    "    # save fig\n",
    "    figName=os.path.join(tmp,'consumo.png')\n",
    "    fig.savefig(figName,transparent=False)\n",
    "except:\n",
    "    shutil.rmtree(tmp)\n",
    "    print('Plot ERROR')\n",
    "    sys.exit('Plot ERROR')   "
   ]
  },
  {
   "cell_type": "markdown",
   "metadata": {},
   "source": [
    "### tweeter Stuff"
   ]
  },
  {
   "cell_type": "code",
   "execution_count": null,
   "metadata": {},
   "outputs": [],
   "source": [
    "#\n",
    "config_file = 'cfg/.tweepy.json'\n",
    "try:\n",
    "    with open(config_file) as fh:\n",
    "        config = json.load(fh)\n",
    "        auth = tweepy.OAuthHandler(config['consumer_key'], config['consumer_secret'])\n",
    "        auth.set_access_token(config['access_token'], config['access_token_secret'])\n",
    "        twitter = tweepy.API(auth)\n",
    "        tweet =tweet_text\n",
    "        image_path =figName\n",
    "        # to attach the media file \n",
    "        status = twitter.update_with_media(image_path, tweet)\n",
    "except:\n",
    "    shutil.rmtree(tmp)\n",
    "    sys.exit('Failed to TWEET')"
   ]
  },
  {
   "cell_type": "markdown",
   "metadata": {},
   "source": [
    "### Compress - Save - Delete"
   ]
  },
  {
   "cell_type": "code",
   "execution_count": null,
   "metadata": {},
   "outputs": [],
   "source": [
    "zipname=os.path.join(arxive,req_time+'_consumo_'+opt+'.zip')\n",
    "zipCompressDir(zipname,tmp)"
   ]
  },
  {
   "cell_type": "code",
   "execution_count": null,
   "metadata": {},
   "outputs": [],
   "source": [
    "shutil.rmtree(tmp)"
   ]
  }
 ],
 "metadata": {
  "kernelspec": {
   "display_name": "Python 3",
   "language": "python",
   "name": "python3"
  },
  "language_info": {
   "codemirror_mode": {
    "name": "ipython",
    "version": 3
   },
   "file_extension": ".py",
   "mimetype": "text/x-python",
   "name": "python",
   "nbconvert_exporter": "python",
   "pygments_lexer": "ipython3",
   "version": "3.7.3"
  }
 },
 "nbformat": 4,
 "nbformat_minor": 4
}
