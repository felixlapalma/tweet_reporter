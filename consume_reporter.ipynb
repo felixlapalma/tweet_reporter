{
 "cells": [
  {
   "cell_type": "markdown",
   "metadata": {},
   "source": [
    "# tweet_informer"
   ]
  },
  {
   "cell_type": "code",
   "execution_count": null,
   "metadata": {},
   "outputs": [],
   "source": [
    "from tweet_informer_lib import os, wget,shutil,pd,make_plt_cba,glob,sys,zipCompressDir,datetime\n",
    "from tweet_informer_lib import json,tweepy"
   ]
  },
  {
   "cell_type": "markdown",
   "metadata": {},
   "source": [
    "### make dirs"
   ]
  },
  {
   "cell_type": "code",
   "execution_count": null,
   "metadata": {},
   "outputs": [],
   "source": [
    "tmp='tmp'\n",
    "arxive='arxive'\n",
    "for folder in [arxive,tmp]:\n",
    "    os.makedirs(folder,exist_ok=True)"
   ]
  },
  {
   "cell_type": "markdown",
   "metadata": {},
   "source": [
    "### url"
   ]
  },
  {
   "cell_type": "code",
   "execution_count": null,
   "metadata": {},
   "outputs": [],
   "source": [
    "url_dict={}\n",
    "url_dict.update({'provincia_cba':'https://aplic.cammesa.com/complemento-portal/descargar?type=csv&value=ChtDem_0145.xml&header=datosDemandas',\n",
    "                 'ciudad_cba':'https://aplic.cammesa.com/complemento-portal/descargar?type=csv&value=ChtDem_0149.xml&header=datosDemandas'})"
   ]
  },
  {
   "cell_type": "code",
   "execution_count": null,
   "metadata": {},
   "outputs": [],
   "source": [
    "csv_dict={}\n",
    "req_time=datetime.datetime.now().strftime('%Y%m%d%H%M%S')\n",
    "for key in url_dict:\n",
    "    filename=os.path.join(tmp,key+'.csv')\n",
    "    filesaved = wget.download(url_dict[key],out=filename)\n",
    "    csv_dict.update({key:filesaved})"
   ]
  },
  {
   "cell_type": "code",
   "execution_count": null,
   "metadata": {},
   "outputs": [],
   "source": [
    "csv_=glob.glob(os.path.join(tmp,'*.csv'))\n",
    "if len(csv_)==2:\n",
    "    pass\n",
    "else:\n",
    "    sys.exit('No CSV files')"
   ]
  },
  {
   "cell_type": "markdown",
   "metadata": {},
   "source": [
    "### Data Proc"
   ]
  },
  {
   "cell_type": "code",
   "execution_count": null,
   "metadata": {},
   "outputs": [],
   "source": [
    "pd_ciudad=pd.read_csv(csv_dict['ciudad_cba'],sep=';',decimal=',',index_col=[0],parse_dates=[0])\n",
    "pd_provincia=pd.read_csv(csv_dict['provincia_cba'],sep=';',decimal=',',index_col=[0],parse_dates=[0])"
   ]
  },
  {
   "cell_type": "code",
   "execution_count": null,
   "metadata": {},
   "outputs": [],
   "source": [
    "pd_merge=pd.merge(pd_provincia,pd_ciudad,left_index=True,right_index=True,suffixes=('_prov','_ciudad'))\n",
    "pd_merge['provincia_sin_ciudad']=pd_merge['Dem Hoy_prov']-pd_merge['Dem Hoy_ciudad']\n",
    "pd_merge_not_na=pd_merge.dropna()"
   ]
  },
  {
   "cell_type": "code",
   "execution_count": null,
   "metadata": {},
   "outputs": [],
   "source": [
    "fig,tweet_text=make_plt_cba(pd_merge_not_na,figsize=(16,12))"
   ]
  },
  {
   "cell_type": "code",
   "execution_count": null,
   "metadata": {},
   "outputs": [],
   "source": [
    "# save fig\n",
    "figName=os.path.join(tmp,'consumo.png')\n",
    "fig.savefig(figName,transparent=True)"
   ]
  },
  {
   "cell_type": "markdown",
   "metadata": {},
   "source": [
    "### Tweeter Stuff"
   ]
  },
  {
   "cell_type": "code",
   "execution_count": null,
   "metadata": {},
   "outputs": [],
   "source": [
    "config_file = '.tweepy.json'\n",
    "with open(config_file) as fh:\n",
    "    config = json.load(fh)"
   ]
  },
  {
   "cell_type": "code",
   "execution_count": null,
   "metadata": {},
   "outputs": [],
   "source": [
    "auth = tweepy.OAuthHandler(\n",
    "    config['consumer_key'], config['consumer_secret']\n",
    ")\n",
    "auth.set_access_token(\n",
    "    config['access_token'], config['access_token_secret']\n",
    ")\n",
    "\n",
    "twitter = tweepy.API(auth)"
   ]
  },
  {
   "cell_type": "code",
   "execution_count": null,
   "metadata": {},
   "outputs": [],
   "source": [
    "tweet =tweet_text\n",
    "image_path =figName"
   ]
  },
  {
   "cell_type": "code",
   "execution_count": null,
   "metadata": {},
   "outputs": [],
   "source": [
    "# to attach the media file \n",
    "status = twitter.update_with_media(image_path, tweet)  \n",
    "twitter.update_status(status = tweet)"
   ]
  },
  {
   "cell_type": "markdown",
   "metadata": {},
   "source": [
    "### Compress - Save - Delete"
   ]
  },
  {
   "cell_type": "code",
   "execution_count": null,
   "metadata": {},
   "outputs": [],
   "source": [
    "zipname=os.path.join(arxive,req_time+'consumo_cba.zip')\n",
    "zipCompressDir(zipname,tmp)"
   ]
  },
  {
   "cell_type": "code",
   "execution_count": null,
   "metadata": {},
   "outputs": [],
   "source": [
    "shutil.rmtree(tmp)"
   ]
  }
 ],
 "metadata": {
  "kernelspec": {
   "display_name": "Python 3",
   "language": "python",
   "name": "python3"
  },
  "language_info": {
   "codemirror_mode": {
    "name": "ipython",
    "version": 3
   },
   "file_extension": ".py",
   "mimetype": "text/x-python",
   "name": "python",
   "nbconvert_exporter": "python",
   "pygments_lexer": "ipython3",
   "version": "3.7.3"
  }
 },
 "nbformat": 4,
 "nbformat_minor": 4
}
