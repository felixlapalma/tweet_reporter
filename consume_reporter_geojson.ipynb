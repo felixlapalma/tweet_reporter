{
 "cells": [
  {
   "cell_type": "markdown",
   "metadata": {},
   "source": [
    "# tweet_informer_provincia_ciudad"
   ]
  },
  {
   "cell_type": "code",
   "execution_count": null,
   "metadata": {},
   "outputs": [],
   "source": [
    "from tweet_informer_lib import os, wget,shutil,pd,glob,sys,zipCompressDir,datetime\n",
    "from tweet_informer_lib import make_cammesa_url,make_plt_provincia_capital_bars,cammesa_consume_reader\n",
    "from tweet_informer_lib import json,tweepy,reduce,plt,gpd,unidecode,gplt,make_cammesa_url_v2"
   ]
  },
  {
   "cell_type": "code",
   "execution_count": null,
   "metadata": {},
   "outputs": [],
   "source": [
    "pd_cfg=pd.read_csv('cfg/csv_cfg_provincias.csv',index_col=0)\n",
    "prov_dict=pd_cfg.T.to_dict()"
   ]
  },
  {
   "cell_type": "code",
   "execution_count": null,
   "metadata": {},
   "outputs": [],
   "source": [
    "df_prov=gpd.read_file('cfg/provincia.geojson')\n",
    "df_prov.NAM=df_prov.NAM.apply(unidecode.unidecode)"
   ]
  },
  {
   "cell_type": "markdown",
   "metadata": {},
   "source": [
    "### url"
   ]
  },
  {
   "cell_type": "code",
   "execution_count": null,
   "metadata": {},
   "outputs": [],
   "source": [
    "url_dict={}\n",
    "for opt in prov_dict:\n",
    "    url_dict.update({opt:{}})\n",
    "    provincia,url_case=prov_dict[opt]['Total'],prov_dict[opt]['url']\n",
    "    make_cammesa_url_v2('provincia',provincia,url_dict[opt],url_case)"
   ]
  },
  {
   "cell_type": "markdown",
   "metadata": {},
   "source": [
    "### make dirs"
   ]
  },
  {
   "cell_type": "code",
   "execution_count": null,
   "metadata": {},
   "outputs": [],
   "source": [
    "tmp='tmp_mapa'\n",
    "arxive='arxive'\n",
    "for folder in [arxive,tmp]:\n",
    "    os.makedirs(folder,exist_ok=True)"
   ]
  },
  {
   "cell_type": "markdown",
   "metadata": {},
   "source": [
    "### get data"
   ]
  },
  {
   "cell_type": "code",
   "execution_count": null,
   "metadata": {},
   "outputs": [],
   "source": [
    "csv_dict={}\n",
    "req_time=datetime.datetime.now().strftime('%Y%m%d%H%M%S')\n",
    "for p in url_dict:\n",
    "    csv_dict.update({p:{}})\n",
    "    for key in url_dict[p]:\n",
    "        filename=os.path.join(tmp,p+'_'+key+'.csv')\n",
    "        filesaved = wget.download(url_dict[p][key],out=filename)\n",
    "        csv_dict[p].update({key:filesaved})"
   ]
  },
  {
   "cell_type": "code",
   "execution_count": null,
   "metadata": {},
   "outputs": [],
   "source": [
    "csv_=glob.glob(os.path.join(tmp,'*.csv'))\n",
    "if len(csv_)>0:\n",
    "    pass\n",
    "else:\n",
    "    shutil.rmtree(tmp)\n",
    "    sys.exit('No CSV files')"
   ]
  },
  {
   "cell_type": "markdown",
   "metadata": {},
   "source": [
    "### data proc"
   ]
  },
  {
   "cell_type": "code",
   "execution_count": null,
   "metadata": {},
   "outputs": [],
   "source": [
    "aux=[]\n",
    "for p in csv_dict:\n",
    "    if p in ['Buenos Aires','SADI','GBA']:\n",
    "        drop=[1,2,3,4]\n",
    "    else:\n",
    "        drop=[1,2]\n",
    "    df=cammesa_consume_reader(csv_dict[p]['provincia'],drop)\n",
    "    df.columns=[p]\n",
    "    aux.append(df)\n",
    "df=reduce(lambda x, y: pd.merge(x, y, left_index=True,right_index=True), aux)\n",
    "df[df < 0] = 0\n",
    "df_notna=df.dropna()"
   ]
  },
  {
   "cell_type": "code",
   "execution_count": null,
   "metadata": {},
   "outputs": [],
   "source": [
    "df_notna=df_notna.dropna()"
   ]
  },
  {
   "cell_type": "code",
   "execution_count": null,
   "metadata": {},
   "outputs": [],
   "source": [
    "series=df_notna.iloc[-1]\n",
    "series_time=series.name.strftime('%d-%m-%Y %H:%M:%S')\n",
    "df_new=pd.DataFrame(df_notna.iloc[-1]).reset_index()\n",
    "df_new.columns=['NAM','Consumo']\n",
    "df_new['Consumo_Porc']=df_new['Consumo']/df_notna['SADI'].iloc[-1]*100\n",
    "df_new['NAM']=df_new['NAM'].apply(lambda x: x if x!='GBA' else 'Ciudad Autonoma de Buenos Aires')"
   ]
  },
  {
   "cell_type": "code",
   "execution_count": null,
   "metadata": {},
   "outputs": [],
   "source": [
    "df_filt=df_prov.merge(df_new,on='NAM')\n",
    "if len(df_filt)>1:\n",
    "    pass\n",
    "else:\n",
    "    shutil.rmtree(tmp)\n",
    "    sys.exit('Short Dataframe')"
   ]
  },
  {
   "cell_type": "code",
   "execution_count": null,
   "metadata": {},
   "outputs": [],
   "source": [
    "fig=plt.figure(figsize=(15, 18))\n",
    "ax=fig.add_subplot(111)\n",
    "ax_gpd=gplt.choropleth(df_filt, hue=df_filt['Consumo_Porc'],cmap='Oranges',k=None,ax=ax)\n",
    "for p in df_filt.NAM:\n",
    "    x=df_filt[df_filt.NAM==p].geometry.representative_point().x\n",
    "    y=df_filt[df_filt.NAM==p].geometry.representative_point().y\n",
    "    MW_porc=df_filt[df_filt.NAM==p]['Consumo_Porc'].values\n",
    "    MW=df_filt[df_filt.NAM==p]['Consumo'].values\n",
    "    if MW_porc[0]>1/22*100:\n",
    "        c='red'\n",
    "    else:\n",
    "        c='black'    \n",
    "    if p=='Ciudad Autonoma de Buenos Aires':\n",
    "        fmt='GBA: {:.0f}\\n({:.1f}%)'\n",
    "    else:\n",
    "        fmt='{:.0f}\\n({:.1f}%)'\n",
    "    ax_gpd.text(x,y,fmt.format(MW[0],MW_porc[0]),horizontalalignment='center',verticalalignment='bottom',bbox=dict(facecolor='white', alpha=0.7),fontsize=14,color=c)"
   ]
  },
  {
   "cell_type": "code",
   "execution_count": null,
   "metadata": {},
   "outputs": [],
   "source": [
    "figName=os.path.join(tmp,'mapa_consumo.png')\n",
    "fig.savefig(figName,transparent=True)"
   ]
  },
  {
   "cell_type": "code",
   "execution_count": null,
   "metadata": {},
   "outputs": [],
   "source": [
    "try:\n",
    "    fig=plt.figure(figsize=(15, 18))\n",
    "    ax=fig.add_subplot(111)\n",
    "    ax_gpd=gplt.choropleth(df_filt, hue=df_filt['Consumo_Porc'],cmap='Oranges',k=None,ax=ax)\n",
    "    for p in df_filt.NAM:\n",
    "        x=df_filt[df_filt.NAM==p].geometry.representative_point().x\n",
    "        y=df_filt[df_filt.NAM==p].geometry.representative_point().y\n",
    "        MW_porc=df_filt[df_filt.NAM==p]['Consumo_Porc'].values\n",
    "        MW=df_filt[df_filt.NAM==p]['Consumo'].values\n",
    "        if MW_porc[0]>1/22*100:\n",
    "            c='red'\n",
    "        else:\n",
    "            c='black'    \n",
    "        if p=='Ciudad Autonoma de Buenos Aires':\n",
    "            fmt='GBA: {:.0f}\\n({:.1f}%)'\n",
    "        else:\n",
    "            fmt='{:.0f}\\n({:.1f}%)'\n",
    "        ax_gpd.text(x,y,fmt.format(MW[0],MW_porc[0]),horizontalalignment='center',verticalalignment='bottom',bbox=dict(facecolor='white', alpha=0.7),fontsize=14,color=c)\n",
    "        ax_gpd.set_title('Demanda Provincias [MW] \\n(% Total Pais) \\n'+series_time,fontsize=20)\n",
    "    # save fig\n",
    "    figName=os.path.join(tmp,'mapa_consumo.png')\n",
    "    fig.savefig(figName,transparent=False)\n",
    "except:\n",
    "    shutil.rmtree(tmp)\n",
    "    print('Plot ERROR')\n",
    "    sys.exit('Plot ERROR')   "
   ]
  },
  {
   "cell_type": "markdown",
   "metadata": {},
   "source": [
    "### tweeter Stuff"
   ]
  },
  {
   "cell_type": "code",
   "execution_count": null,
   "metadata": {},
   "outputs": [],
   "source": [
    "#\n",
    "config_file = 'cfg/.tweepy.json'\n",
    "try:\n",
    "    with open(config_file) as fh:\n",
    "        config = json.load(fh)\n",
    "        auth = tweepy.OAuthHandler(config['consumer_key'], config['consumer_secret'])\n",
    "        auth.set_access_token(config['access_token'], config['access_token_secret'])\n",
    "        twitter = tweepy.API(auth)\n",
    "        tweet ='Demanda Provincias [MW] y % Total Pais'\n",
    "        image_path =figName\n",
    "        # to attach the media file \n",
    "        status = twitter.update_with_media(image_path, tweet)\n",
    "except:\n",
    "    shutil.rmtree(tmp)\n",
    "    sys.exit('Failed to TWEET')"
   ]
  },
  {
   "cell_type": "markdown",
   "metadata": {},
   "source": [
    "### Compress - Save - Delete"
   ]
  },
  {
   "cell_type": "code",
   "execution_count": null,
   "metadata": {},
   "outputs": [],
   "source": [
    "zipname=os.path.join(arxive,req_time+'_consumo_mapa_provincias.zip')\n",
    "zipCompressDir(zipname,tmp)"
   ]
  },
  {
   "cell_type": "code",
   "execution_count": null,
   "metadata": {},
   "outputs": [],
   "source": [
    "shutil.rmtree(tmp)"
   ]
  }
 ],
 "metadata": {
  "kernelspec": {
   "display_name": "Python 3",
   "language": "python",
   "name": "python3"
  },
  "language_info": {
   "codemirror_mode": {
    "name": "ipython",
    "version": 3
   },
   "file_extension": ".py",
   "mimetype": "text/x-python",
   "name": "python",
   "nbconvert_exporter": "python",
   "pygments_lexer": "ipython3",
   "version": "3.7.3"
  }
 },
 "nbformat": 4,
 "nbformat_minor": 4
}
